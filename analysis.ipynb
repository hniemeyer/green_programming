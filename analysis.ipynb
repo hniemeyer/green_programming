{
 "cells": [
  {
   "cell_type": "code",
   "execution_count": 1,
   "metadata": {},
   "outputs": [],
   "source": [
    "import pandas as pd\n",
    "import matplotlib.pyplot as plt"
   ]
  },
  {
   "cell_type": "code",
   "execution_count": 12,
   "metadata": {},
   "outputs": [],
   "source": [
    "df = pd.read_csv(\"emissions.csv\")\n",
    "df2 = df[[\"project_name\", \"cpu_energy\", \"ram_energy\"]]"
   ]
  },
  {
   "cell_type": "code",
   "execution_count": 13,
   "metadata": {},
   "outputs": [],
   "source": [
    "df2 = df2.set_index(\"project_name\")"
   ]
  },
  {
   "cell_type": "code",
   "execution_count": 14,
   "metadata": {},
   "outputs": [
    {
     "data": {
      "text/plain": [
       "Text(0.5, 0, '')"
      ]
     },
     "execution_count": 14,
     "metadata": {},
     "output_type": "execute_result"
    },
    {
     "data": {
      "image/png": "[encoded data removed]",
      "text/plain": [
       "<Figure size 640x480 with 1 Axes>"
      ]
     },
     "metadata": {},
     "output_type": "display_data"
    }
   ],
   "source": [
    "ax = df2.plot.bar(stacked=True)\n",
    "plt.ylabel(\"Energy in [kWh]\")\n",
    "plt.xlabel(\"\")\n",
    "#ax.bar_label(ax.containers[0])"
   ]
  },
  {
   "cell_type": "code",
   "execution_count": 15,
   "metadata": {},
   "outputs": [
    {
     "data": {
      "text/html": [
       "<div>\n",
       "<style scoped>\n",
       "    .dataframe tbody tr th:only-of-type {\n",
       "        vertical-align: middle;\n",
       "    }\n",
       "\n",
       "    .dataframe tbody tr th {\n",
       "        vertical-align: top;\n",
       "    }\n",
       "\n",
       "    .dataframe thead th {\n",
       "        text-align: right;\n",
       "    }\n",
       "</style>\n",
       "<table border=\"1\" class=\"dataframe\">\n",
       "  <thead>\n",
       "    <tr style=\"text-align: right;\">\n",
       "      <th></th>\n",
       "      <th>cpu_energy</th>\n",
       "      <th>ram_energy</th>\n",
       "    </tr>\n",
       "    <tr>\n",
       "      <th>project_name</th>\n",
       "      <th></th>\n",
       "      <th></th>\n",
       "    </tr>\n",
       "  </thead>\n",
       "  <tbody>\n",
       "    <tr>\n",
       "      <th>ruby</th>\n",
       "      <td>0.000005</td>\n",
       "      <td>2.414232e-07</td>\n",
       "    </tr>\n",
       "    <tr>\n",
       "      <th>lua</th>\n",
       "      <td>0.000008</td>\n",
       "      <td>4.008995e-07</td>\n",
       "    </tr>\n",
       "    <tr>\n",
       "      <th>lisp</th>\n",
       "      <td>0.000110</td>\n",
       "      <td>5.257660e-06</td>\n",
       "    </tr>\n",
       "    <tr>\n",
       "      <th>elixir</th>\n",
       "      <td>0.000012</td>\n",
       "      <td>5.731893e-07</td>\n",
       "    </tr>\n",
       "    <tr>\n",
       "      <th>java</th>\n",
       "      <td>0.000007</td>\n",
       "      <td>3.286878e-07</td>\n",
       "    </tr>\n",
       "    <tr>\n",
       "      <th>rust</th>\n",
       "      <td>0.000002</td>\n",
       "      <td>1.078157e-07</td>\n",
       "    </tr>\n",
       "    <tr>\n",
       "      <th>kotlin</th>\n",
       "      <td>0.000003</td>\n",
       "      <td>1.568961e-07</td>\n",
       "    </tr>\n",
       "    <tr>\n",
       "      <th>swift</th>\n",
       "      <td>0.000006</td>\n",
       "      <td>3.063740e-07</td>\n",
       "    </tr>\n",
       "    <tr>\n",
       "      <th>typescript</th>\n",
       "      <td>0.000004</td>\n",
       "      <td>1.823850e-07</td>\n",
       "    </tr>\n",
       "  </tbody>\n",
       "</table>\n",
       "</div>"
      ],
      "text/plain": [
       "              cpu_energy    ram_energy\n",
       "project_name                          \n",
       "ruby            0.000005  2.414232e-07\n",
       "lua             0.000008  4.008995e-07\n",
       "lisp            0.000110  5.257660e-06\n",
       "elixir          0.000012  5.731893e-07\n",
       "java            0.000007  3.286878e-07\n",
       "rust            0.000002  1.078157e-07\n",
       "kotlin          0.000003  1.568961e-07\n",
       "swift           0.000006  3.063740e-07\n",
       "typescript      0.000004  1.823850e-07"
      ]
     },
     "execution_count": 15,
     "metadata": {},
     "output_type": "execute_result"
    }
   ],
   "source": [
    "df2"
   ]
  },
  {
   "cell_type": "code",
   "execution_count": 16,
   "metadata": {},
   "outputs": [],
   "source": [
    "df2[\"total_energy\"] = df2.cpu_energy + df2.ram_energy"
   ]
  },
  {
   "cell_type": "code",
   "execution_count": 17,
   "metadata": {},
   "outputs": [
    {
     "data": {
      "text/html": [
       "<div>\n",
       "<style scoped>\n",
       "    .dataframe tbody tr th:only-of-type {\n",
       "        vertical-align: middle;\n",
       "    }\n",
       "\n",
       "    .dataframe tbody tr th {\n",
       "        vertical-align: top;\n",
       "    }\n",
       "\n",
       "    .dataframe thead th {\n",
       "        text-align: right;\n",
       "    }\n",
       "</style>\n",
       "<table border=\"1\" class=\"dataframe\">\n",
       "  <thead>\n",
       "    <tr style=\"text-align: right;\">\n",
       "      <th></th>\n",
       "      <th>cpu_energy</th>\n",
       "      <th>ram_energy</th>\n",
       "      <th>total_energy</th>\n",
       "    </tr>\n",
       "    <tr>\n",
       "      <th>project_name</th>\n",
       "      <th></th>\n",
       "      <th></th>\n",
       "      <th></th>\n",
       "    </tr>\n",
       "  </thead>\n",
       "  <tbody>\n",
       "    <tr>\n",
       "      <th>ruby</th>\n",
       "      <td>0.000005</td>\n",
       "      <td>2.414232e-07</td>\n",
       "      <td>0.000005</td>\n",
       "    </tr>\n",
       "    <tr>\n",
       "      <th>lua</th>\n",
       "      <td>0.000008</td>\n",
       "      <td>4.008995e-07</td>\n",
       "      <td>0.000009</td>\n",
       "    </tr>\n",
       "    <tr>\n",
       "      <th>lisp</th>\n",
       "      <td>0.000110</td>\n",
       "      <td>5.257660e-06</td>\n",
       "      <td>0.000115</td>\n",
       "    </tr>\n",
       "    <tr>\n",
       "      <th>elixir</th>\n",
       "      <td>0.000012</td>\n",
       "      <td>5.731893e-07</td>\n",
       "      <td>0.000013</td>\n",
       "    </tr>\n",
       "    <tr>\n",
       "      <th>java</th>\n",
       "      <td>0.000007</td>\n",
       "      <td>3.286878e-07</td>\n",
       "      <td>0.000007</td>\n",
       "    </tr>\n",
       "    <tr>\n",
       "      <th>rust</th>\n",
       "      <td>0.000002</td>\n",
       "      <td>1.078157e-07</td>\n",
       "      <td>0.000002</td>\n",
       "    </tr>\n",
       "    <tr>\n",
       "      <th>kotlin</th>\n",
       "      <td>0.000003</td>\n",
       "      <td>1.568961e-07</td>\n",
       "      <td>0.000004</td>\n",
       "    </tr>\n",
       "    <tr>\n",
       "      <th>swift</th>\n",
       "      <td>0.000006</td>\n",
       "      <td>3.063740e-07</td>\n",
       "      <td>0.000007</td>\n",
       "    </tr>\n",
       "    <tr>\n",
       "      <th>typescript</th>\n",
       "      <td>0.000004</td>\n",
       "      <td>1.823850e-07</td>\n",
       "      <td>0.000004</td>\n",
       "    </tr>\n",
       "  </tbody>\n",
       "</table>\n",
       "</div>"
      ],
      "text/plain": [
       "              cpu_energy    ram_energy  total_energy\n",
       "project_name                                        \n",
       "ruby            0.000005  2.414232e-07      0.000005\n",
       "lua             0.000008  4.008995e-07      0.000009\n",
       "lisp            0.000110  5.257660e-06      0.000115\n",
       "elixir          0.000012  5.731893e-07      0.000013\n",
       "java            0.000007  3.286878e-07      0.000007\n",
       "rust            0.000002  1.078157e-07      0.000002\n",
       "kotlin          0.000003  1.568961e-07      0.000004\n",
       "swift           0.000006  3.063740e-07      0.000007\n",
       "typescript      0.000004  1.823850e-07      0.000004"
      ]
     },
     "execution_count": 17,
     "metadata": {},
     "output_type": "execute_result"
    }
   ],
   "source": [
    "df2"
   ]
  },
  {
   "cell_type": "code",
   "execution_count": 18,
   "metadata": {},
   "outputs": [
    {
     "data": {
      "text/html": [
       "<div>\n",
       "<style scoped>\n",
       "    .dataframe tbody tr th:only-of-type {\n",
       "        vertical-align: middle;\n",
       "    }\n",
       "\n",
       "    .dataframe tbody tr th {\n",
       "        vertical-align: top;\n",
       "    }\n",
       "\n",
       "    .dataframe thead th {\n",
       "        text-align: right;\n",
       "    }\n",
       "</style>\n",
       "<table border=\"1\" class=\"dataframe\">\n",
       "  <thead>\n",
       "    <tr style=\"text-align: right;\">\n",
       "      <th></th>\n",
       "      <th>cpu_energy</th>\n",
       "      <th>ram_energy</th>\n",
       "      <th>total_energy</th>\n",
       "    </tr>\n",
       "    <tr>\n",
       "      <th>project_name</th>\n",
       "      <th></th>\n",
       "      <th></th>\n",
       "      <th></th>\n",
       "    </tr>\n",
       "  </thead>\n",
       "  <tbody>\n",
       "    <tr>\n",
       "      <th>lisp</th>\n",
       "      <td>0.000110</td>\n",
       "      <td>5.257660e-06</td>\n",
       "      <td>0.000115</td>\n",
       "    </tr>\n",
       "    <tr>\n",
       "      <th>elixir</th>\n",
       "      <td>0.000012</td>\n",
       "      <td>5.731893e-07</td>\n",
       "      <td>0.000013</td>\n",
       "    </tr>\n",
       "    <tr>\n",
       "      <th>lua</th>\n",
       "      <td>0.000008</td>\n",
       "      <td>4.008995e-07</td>\n",
       "      <td>0.000009</td>\n",
       "    </tr>\n",
       "    <tr>\n",
       "      <th>java</th>\n",
       "      <td>0.000007</td>\n",
       "      <td>3.286878e-07</td>\n",
       "      <td>0.000007</td>\n",
       "    </tr>\n",
       "    <tr>\n",
       "      <th>swift</th>\n",
       "      <td>0.000006</td>\n",
       "      <td>3.063740e-07</td>\n",
       "      <td>0.000007</td>\n",
       "    </tr>\n",
       "    <tr>\n",
       "      <th>ruby</th>\n",
       "      <td>0.000005</td>\n",
       "      <td>2.414232e-07</td>\n",
       "      <td>0.000005</td>\n",
       "    </tr>\n",
       "    <tr>\n",
       "      <th>typescript</th>\n",
       "      <td>0.000004</td>\n",
       "      <td>1.823850e-07</td>\n",
       "      <td>0.000004</td>\n",
       "    </tr>\n",
       "    <tr>\n",
       "      <th>kotlin</th>\n",
       "      <td>0.000003</td>\n",
       "      <td>1.568961e-07</td>\n",
       "      <td>0.000004</td>\n",
       "    </tr>\n",
       "    <tr>\n",
       "      <th>rust</th>\n",
       "      <td>0.000002</td>\n",
       "      <td>1.078157e-07</td>\n",
       "      <td>0.000002</td>\n",
       "    </tr>\n",
       "  </tbody>\n",
       "</table>\n",
       "</div>"
      ],
      "text/plain": [
       "              cpu_energy    ram_energy  total_energy\n",
       "project_name                                        \n",
       "lisp            0.000110  5.257660e-06      0.000115\n",
       "elixir          0.000012  5.731893e-07      0.000013\n",
       "lua             0.000008  4.008995e-07      0.000009\n",
       "java            0.000007  3.286878e-07      0.000007\n",
       "swift           0.000006  3.063740e-07      0.000007\n",
       "ruby            0.000005  2.414232e-07      0.000005\n",
       "typescript      0.000004  1.823850e-07      0.000004\n",
       "kotlin          0.000003  1.568961e-07      0.000004\n",
       "rust            0.000002  1.078157e-07      0.000002"
      ]
     },
     "execution_count": 18,
     "metadata": {},
     "output_type": "execute_result"
    }
   ],
   "source": [
    "df2.sort_values(\"total_energy\", ascending=False)"
   ]
  },
  {
   "cell_type": "code",
   "execution_count": null,
   "metadata": {},
   "outputs": [],
   "source": []
  }
 ],
 "metadata": {
  "kernelspec": {
   "display_name": "Python 3",
   "language": "python",
   "name": "python3"
  },
  "language_info": {
   "codemirror_mode": {
    "name": "ipython",
    "version": 3
   },
   "file_extension": ".py",
   "mimetype": "text/x-python",
   "name": "python",
   "nbconvert_exporter": "python",
   "pygments_lexer": "ipython3",
   "version": "3.10.12"
  }
 },
 "nbformat": 4,
 "nbformat_minor": 2
}
